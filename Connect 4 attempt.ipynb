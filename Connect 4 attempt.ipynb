{
 "cells": [
  {
   "cell_type": "code",
   "execution_count": 20,
   "metadata": {},
   "outputs": [],
   "source": [
    "import numpy as np\n",
    "ROW_COUNT = 6\n",
    "COLUMN_COUNT = 7"
   ]
  },
  {
   "cell_type": "code",
   "execution_count": 21,
   "metadata": {},
   "outputs": [],
   "source": [
    "def create_board():\n",
    "    board = np.zeros((ROW_COUNT,COLUMN_COUNT))\n",
    "    return board\n",
    "board = create_board()"
   ]
  },
  {
   "cell_type": "code",
   "execution_count": 22,
   "metadata": {},
   "outputs": [],
   "source": [
    "def drop_piece(board, row, col, piece):\n",
    "    board[row][col] = piece\n",
    "\n",
    "def is_valid_location(board, col):\n",
    "    return board[ROW_COUNT-1][col]==0\n",
    "\n",
    "def get_next_open_row(board, col):\n",
    "    for r in range(ROW_COUNT):\n",
    "        if board[r][col] == 0:\n",
    "            return r\n",
    "def print_board(board):\n",
    "    print(np.flip(board, 0))\n",
    "    \n",
    "def winning_move(board, piece):\n",
    "    # checking all horizontal locations\n",
    "    for c in range(COLUMN_COUNT-3):\n",
    "        for r in range(ROW_COUNT):\n",
    "            if board[r][c] == piece and board[r][c+1]==piece and and board[r][c+2]==piece and board[r][c+3]==piece:\n",
    "                return True\n",
    "    #chekcing for veritcal locaitons"
   ]
  },
  {
   "cell_type": "code",
   "execution_count": null,
   "metadata": {},
   "outputs": [
    {
     "name": "stdout",
     "output_type": "stream",
     "text": [
      "Player 1 make your selection (0,6):1\n",
      "[[0. 0. 0. 0. 0. 0. 0.]\n",
      " [0. 0. 0. 0. 0. 0. 0.]\n",
      " [0. 0. 0. 0. 0. 0. 0.]\n",
      " [0. 0. 0. 0. 0. 0. 0.]\n",
      " [0. 0. 0. 0. 0. 0. 0.]\n",
      " [0. 1. 0. 0. 0. 0. 0.]]\n",
      "Player 2 make your selection (0,6):2\n",
      "[[0. 0. 0. 0. 0. 0. 0.]\n",
      " [0. 0. 0. 0. 0. 0. 0.]\n",
      " [0. 0. 0. 0. 0. 0. 0.]\n",
      " [0. 0. 0. 0. 0. 0. 0.]\n",
      " [0. 0. 0. 0. 0. 0. 0.]\n",
      " [0. 1. 2. 0. 0. 0. 0.]]\n",
      "Player 1 make your selection (0,6):3\n",
      "[[0. 0. 0. 0. 0. 0. 0.]\n",
      " [0. 0. 0. 0. 0. 0. 0.]\n",
      " [0. 0. 0. 0. 0. 0. 0.]\n",
      " [0. 0. 0. 0. 0. 0. 0.]\n",
      " [0. 0. 0. 0. 0. 0. 0.]\n",
      " [0. 1. 2. 1. 0. 0. 0.]]\n",
      "Player 2 make your selection (0,6):3\n",
      "[[0. 0. 0. 0. 0. 0. 0.]\n",
      " [0. 0. 0. 0. 0. 0. 0.]\n",
      " [0. 0. 0. 0. 0. 0. 0.]\n",
      " [0. 0. 0. 0. 0. 0. 0.]\n",
      " [0. 0. 0. 2. 0. 0. 0.]\n",
      " [0. 1. 2. 1. 0. 0. 0.]]\n"
     ]
    }
   ],
   "source": [
    "game_over = False\n",
    "turn = 0\n",
    "while not game_over:\n",
    "    #ask for player 1 input\n",
    "    if turn==0:\n",
    "        col = int(input(\"Player 1 make your selection (0,6):\"))\n",
    "        if is_valid_location(board, col):\n",
    "            row = get_next_open_row(board,col)\n",
    "            drop_piece(board, row, col, 1)\n",
    "    #Ask for player 2 input\n",
    "    else: \n",
    "        col = int(input(\"Player 2 make your selection (0,6):\"))\n",
    "        if is_valid_location(board, col):\n",
    "            row = get_next_open_row(board,col)\n",
    "            drop_piece(board, row, col, 2)\n",
    "    print_board(board)\n",
    "    turn += 1\n",
    "    turn = turn %2"
   ]
  },
  {
   "cell_type": "code",
   "execution_count": 10,
   "metadata": {},
   "outputs": [
    {
     "name": "stdout",
     "output_type": "stream",
     "text": [
      "[[0. 0. 0. 0. 0. 0. 0.]\n",
      " [0. 0. 0. 0. 0. 0. 0.]\n",
      " [0. 0. 0. 0. 0. 0. 0.]\n",
      " [0. 0. 0. 0. 0. 0. 0.]\n",
      " [0. 0. 0. 0. 0. 0. 0.]\n",
      " [0. 0. 0. 0. 0. 0. 0.]]\n"
     ]
    }
   ],
   "source": [
    "print(board)"
   ]
  },
  {
   "cell_type": "code",
   "execution_count": null,
   "metadata": {},
   "outputs": [],
   "source": []
  }
 ],
 "metadata": {
  "kernelspec": {
   "display_name": "Python 3",
   "language": "python",
   "name": "python3"
  },
  "language_info": {
   "codemirror_mode": {
    "name": "ipython",
    "version": 3
   },
   "file_extension": ".py",
   "mimetype": "text/x-python",
   "name": "python",
   "nbconvert_exporter": "python",
   "pygments_lexer": "ipython3",
   "version": "3.6.6"
  }
 },
 "nbformat": 4,
 "nbformat_minor": 2
}
